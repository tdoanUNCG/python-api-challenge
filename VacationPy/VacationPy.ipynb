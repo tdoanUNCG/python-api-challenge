{
 "cells": [
  {
   "cell_type": "code",
   "execution_count": 6,
   "metadata": {},
   "outputs": [
    {
     "name": "stdout",
     "output_type": "stream",
     "text": [
      "\n"
     ]
    }
   ],
   "source": [
    "# Dependencies and Setup\n",
    "import matplotlib.pyplot as plt\n",
    "import pandas as pd\n",
    "import numpy as np\n",
    "import requests\n",
    "import gmaps\n",
    "import os\n",
    "\n",
    "# Import API key\n",
    "from api_keys import g_key\n",
    "\n",
    "# configure gmaps\n",
    "gmaps.configure(api_key=g_key)\n",
    "print(g_key)"
   ]
  },
  {
   "cell_type": "code",
   "execution_count": 4,
   "metadata": {},
   "outputs": [
    {
     "data": {
      "text/html": [
       "<div>\n",
       "<style scoped>\n",
       "    .dataframe tbody tr th:only-of-type {\n",
       "        vertical-align: middle;\n",
       "    }\n",
       "\n",
       "    .dataframe tbody tr th {\n",
       "        vertical-align: top;\n",
       "    }\n",
       "\n",
       "    .dataframe thead th {\n",
       "        text-align: right;\n",
       "    }\n",
       "</style>\n",
       "<table border=\"1\" class=\"dataframe\">\n",
       "  <thead>\n",
       "    <tr style=\"text-align: right;\">\n",
       "      <th></th>\n",
       "      <th>City</th>\n",
       "      <th>Cloudiness</th>\n",
       "      <th>Country</th>\n",
       "      <th>Date</th>\n",
       "      <th>Humidity</th>\n",
       "      <th>Lat</th>\n",
       "      <th>Lng</th>\n",
       "      <th>Max Temp</th>\n",
       "      <th>Wind Speed</th>\n",
       "    </tr>\n",
       "  </thead>\n",
       "  <tbody>\n",
       "    <tr>\n",
       "      <td>0</td>\n",
       "      <td>Lebu</td>\n",
       "      <td>17</td>\n",
       "      <td>CL</td>\n",
       "      <td>1579819808</td>\n",
       "      <td>66</td>\n",
       "      <td>-37.62</td>\n",
       "      <td>-73.65</td>\n",
       "      <td>62.294</td>\n",
       "      <td>9.95465</td>\n",
       "    </tr>\n",
       "    <tr>\n",
       "      <td>1</td>\n",
       "      <td>Yellowknife</td>\n",
       "      <td>40</td>\n",
       "      <td>CA</td>\n",
       "      <td>1579819808</td>\n",
       "      <td>76</td>\n",
       "      <td>62.46</td>\n",
       "      <td>-114.35</td>\n",
       "      <td>-4.000</td>\n",
       "      <td>8.05320</td>\n",
       "    </tr>\n",
       "    <tr>\n",
       "      <td>2</td>\n",
       "      <td>Bluff</td>\n",
       "      <td>66</td>\n",
       "      <td>NZ</td>\n",
       "      <td>1579819809</td>\n",
       "      <td>64</td>\n",
       "      <td>-46.60</td>\n",
       "      <td>168.33</td>\n",
       "      <td>73.994</td>\n",
       "      <td>2.99758</td>\n",
       "    </tr>\n",
       "    <tr>\n",
       "      <td>3</td>\n",
       "      <td>Mar del Plata</td>\n",
       "      <td>40</td>\n",
       "      <td>AR</td>\n",
       "      <td>1579819809</td>\n",
       "      <td>55</td>\n",
       "      <td>-38.00</td>\n",
       "      <td>-57.56</td>\n",
       "      <td>89.006</td>\n",
       "      <td>17.22490</td>\n",
       "    </tr>\n",
       "    <tr>\n",
       "      <td>4</td>\n",
       "      <td>Aykhal</td>\n",
       "      <td>11</td>\n",
       "      <td>RU</td>\n",
       "      <td>1579819809</td>\n",
       "      <td>65</td>\n",
       "      <td>66.00</td>\n",
       "      <td>111.50</td>\n",
       "      <td>-38.200</td>\n",
       "      <td>6.71100</td>\n",
       "    </tr>\n",
       "  </tbody>\n",
       "</table>\n",
       "</div>"
      ],
      "text/plain": [
       "            City  Cloudiness Country        Date  Humidity    Lat     Lng  \\\n",
       "0           Lebu          17      CL  1579819808        66 -37.62  -73.65   \n",
       "1    Yellowknife          40      CA  1579819808        76  62.46 -114.35   \n",
       "2          Bluff          66      NZ  1579819809        64 -46.60  168.33   \n",
       "3  Mar del Plata          40      AR  1579819809        55 -38.00  -57.56   \n",
       "4         Aykhal          11      RU  1579819809        65  66.00  111.50   \n",
       "\n",
       "   Max Temp  Wind Speed  \n",
       "0    62.294     9.95465  \n",
       "1    -4.000     8.05320  \n",
       "2    73.994     2.99758  \n",
       "3    89.006    17.22490  \n",
       "4   -38.200     6.71100  "
      ]
     },
     "execution_count": 4,
     "metadata": {},
     "output_type": "execute_result"
    }
   ],
   "source": [
    "cities_df = pd.read_csv('../WeatherPy/ow_weather_df.csv')\n",
    "cities_df.dropna()\n",
    "cities_df.head()"
   ]
  },
  {
   "cell_type": "code",
   "execution_count": 5,
   "metadata": {},
   "outputs": [
    {
     "data": {
      "application/vnd.jupyter.widget-view+json": {
       "model_id": "a6b891c6efa540889095f0e64aa14ba2",
       "version_major": 2,
       "version_minor": 0
      },
      "text/plain": [
       "Figure(layout=FigureLayout(height='420px'))"
      ]
     },
     "metadata": {},
     "output_type": "display_data"
    }
   ],
   "source": [
    "# store latitude and longitude in locations\n",
    "locations = cities_df[['Lat','Lng']]\n",
    "# store humidity as rating\n",
    "rating = cities_df['Humidity'].astype(float)\n",
    "# plot heatmap\n",
    "fig = gmaps.figure()\n",
    "# create heat layer\n",
    "heat_layer = gmaps.heatmap_layer(locations,weights=rating,\\\n",
    "                                 dissipating=False,max_intensity=10,\\\n",
    "                                 point_radius=1)\n",
    "# add layer\n",
    "fig.add_layer(heat_layer)\n",
    "# display figure\n",
    "fig"
   ]
  },
  {
   "cell_type": "code",
   "execution_count": null,
   "metadata": {},
   "outputs": [],
   "source": []
  }
 ],
 "metadata": {
  "kernelspec": {
   "display_name": "Python 3",
   "language": "python",
   "name": "python3"
  },
  "language_info": {
   "codemirror_mode": {
    "name": "ipython",
    "version": 3
   },
   "file_extension": ".py",
   "mimetype": "text/x-python",
   "name": "python",
   "nbconvert_exporter": "python",
   "pygments_lexer": "ipython3",
   "version": "3.7.4"
  }
 },
 "nbformat": 4,
 "nbformat_minor": 2
}
